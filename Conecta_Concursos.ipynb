{
  "cells": [
    {
      "cell_type": "markdown",
      "metadata": {
        "id": "view-in-github",
        "colab_type": "text"
      },
      "source": [
        "<a href=\"https://colab.research.google.com/github/Anderson01fcg/CONECTA-CONCURSOS/blob/main/Conecta_Concursos.ipynb\" target=\"_parent\"><img src=\"https://colab.research.google.com/assets/colab-badge.svg\" alt=\"Open In Colab\"/></a>"
      ]
    },
    {
      "cell_type": "code",
      "source": [
        "from datetime import datetime\n",
        "\n",
        "# Estrutura para armazenar os dados dos concursos\n",
        "lista_de_concursos = []\n",
        "\n",
        "# Função para adicionar um novo concurso\n",
        "def adicionar_concurso(nome, estado, nivel=None, data_concurso=None, inicio_inscricoes=None, data_avaliacao=None, banca=None, link_banca=None, valor_inscricao=None, quantidade_vagas=None):\n",
        "    concurso = {\n",
        "        'Nome do Concurso': nome,\n",
        "        'Estado': estado.upper(),\n",
        "        'Nível': nivel,\n",
        "        'Data do Concurso': data_concurso,\n",
        "        'Início das Inscrições': inicio_inscricoes,\n",
        "        'Data da Avaliação': data_avaliacao,\n",
        "        'Banca Responsável': banca,\n",
        "        'Link da Banca Responsável': link_banca,\n",
        "        'Valor da Inscrição': valor_inscricao,\n",
        "        'Quantidade de Vagas': quantidade_vagas\n",
        "    }\n",
        "    lista_de_concursos.append(concurso)\n",
        "    print(f\"Concurso '{nome}' adicionado com sucesso.\")\n",
        "\n",
        "# Exemplos de como usar a função para adicionar concursos (incluindo a quantidade de vagas)\n",
        "adicionar_concurso(\"Concurso Polícia Federal\", \"RJ\", \"Superior\", \"2025-08-15\", \"2025-06-01\", \"2025-09-28\", \"Cebraspe\", \"https://www.cebraspe.org.br/\", 120.00, 150)\n",
        "adicionar_concurso(\"Concurso Guarda Municipal\", \"SP\", \"Médio\", \"2025-09-22\", \"2025-07-10\", \"2025-11-10\", \"Vunesp\", \"https://www.vunesp.com.br/\", 85.50, 50)\n",
        "adicionar_concurso(\"Concurso Tribunal de Justiça\", \"MG\", \"Superior\", \"2025-10-10\", \"2025-08-05\", \"2025-12-01\", \"IBGP\", 150.00, 30)\n",
        "adicionar_concurso(\"Concurso Professor Estadual\", \"RJ\", \"Superior\", \"2025-11-05\", \"2025-09-15\", \"2026-01-15\", None, None, 90.00, 200)\n",
        "adicionar_concurso(\"Concurso Bombeiros\", \"MG\", \"Médio\", \"2025-06-20\", \"2025-05-20\", \"2025-07-30\", None, None, 70.00, 100)\n",
        "adicionar_concurso(\"Concurso Banco Central\", \"DF\", \"Superior\", None, \"2025-07-01\", None, None, None, 180.00, 25) # Adicionando sem data do concurso\n",
        "\n",
        "# Função para buscar concursos por estado\n",
        "def buscar_concursos_por_estado(estado_busca):\n",
        "    estado_busca_upper = estado_busca.upper()\n",
        "    concursos_encontrados = []\n",
        "    for concurso in lista_de_concursos:\n",
        "        if concurso['Estado'] == estado_busca_upper:\n",
        "            concursos_encontrados.append(concurso)\n",
        "\n",
        "    if concursos_encontrados:\n",
        "        print(f\"\\nConcursos encontrados para o estado de '{estado_busca}':\")\n",
        "        for concurso in concursos_encontrados:\n",
        "            print(f\"- {concurso['Nome do Concurso']} (Nível: {concurso['Nível'] if concurso['Nível'] else 'Não informado'})\", end=\" \")\n",
        "            if concurso['Quantidade de Vagas'] is not None:\n",
        "                print(f\"(Vagas: {concurso['Quantidade de Vagas']})\", end=\" \")\n",
        "            else:\n",
        "                print(\"(Vagas: A ser definida)\", end=\" \")\n",
        "            if concurso['Valor da Inscrição'] is not None:\n",
        "                print(f\"(Valor: R$ {concurso['Valor da Inscrição']:.2f})\", end=\" \")\n",
        "            else:\n",
        "                print(\"(Valor: A ser definido)\", end=\" \")\n",
        "            if concurso['Data do Concurso']:\n",
        "                try:\n",
        "                    data_concurso_obj = datetime.strptime(concurso['Data do Concurso'], '%Y-%m-%d').date()\n",
        "                    data_concurso_formatada = data_concurso_obj.strftime('%d-%m-%Y')\n",
        "                    print(f\"(Data do Concurso: {data_concurso_formatada})\", end=\" \")\n",
        "                except ValueError:\n",
        "                    print(\"(Data do Concurso: Formato inválido)\", end=\" \")\n",
        "            else:\n",
        "                print(\"(Data do Concurso: A ser definida)\", end=\" \")\n",
        "\n",
        "            if concurso['Início das Inscrições']:\n",
        "                try:\n",
        "                    inicio_inscricoes_obj = datetime.strptime(concurso['Início das Inscrições'], '%Y-%m-%d').date()\n",
        "                    inicio_inscricoes_formatada = inicio_inscricoes_obj.strftime('%d-%m-%Y')\n",
        "                    print(f\"(Início Inscrições: {inicio_inscricoes_formatada})\", end=\" \")\n",
        "                except ValueError:\n",
        "                    print(\"(Início Inscrições: Formato inválido)\", end=\" \")\n",
        "            else:\n",
        "                print(\"(Início Inscrições: A ser definido)\", end=\" \")\n",
        "\n",
        "            if concurso['Link da Banca Responsável']:\n",
        "                print(f\"({concurso['Link da Banca Responsável']})\")\n",
        "            else:\n",
        "                print(\"(Link da banca não disponível)\")\n",
        "    else:\n",
        "        print(f\"\\nNenhum concurso encontrado para o estado de '{estado_busca}'.\")\n",
        "\n",
        "# Agora a busca por estado será solicitada aqui\n",
        "estado_para_buscar = input(\"Digite o estado que você deseja buscar: \")\n",
        "buscar_concursos_por_estado(estado_para_buscar)"
      ],
      "metadata": {
        "colab": {
          "base_uri": "https://localhost:8080/"
        },
        "id": "1WakwVVPbFFX",
        "outputId": "b80bad79-1eaa-4c88-a167-8635039d0d00"
      },
      "execution_count": 3,
      "outputs": [
        {
          "output_type": "stream",
          "name": "stdout",
          "text": [
            "Concurso 'Concurso Polícia Federal' adicionado com sucesso.\n",
            "Concurso 'Concurso Guarda Municipal' adicionado com sucesso.\n",
            "Concurso 'Concurso Tribunal de Justiça' adicionado com sucesso.\n",
            "Concurso 'Concurso Professor Estadual' adicionado com sucesso.\n",
            "Concurso 'Concurso Bombeiros' adicionado com sucesso.\n",
            "Concurso 'Concurso Banco Central' adicionado com sucesso.\n",
            "Digite o estado que você deseja buscar: RJ\n",
            "\n",
            "Concursos encontrados para o estado de 'RJ':\n",
            "- Concurso Polícia Federal (Nível: Superior) (Vagas: 150) (Valor: R$ 120.00) (Data do Concurso: 15-08-2025) (Início Inscrições: 01-06-2025) (https://www.cebraspe.org.br/)\n",
            "- Concurso Professor Estadual (Nível: Superior) (Vagas: 200) (Valor: R$ 90.00) (Data do Concurso: 05-11-2025) (Início Inscrições: 15-09-2025) (Link da banca não disponível)\n"
          ]
        }
      ]
    }
  ],
  "metadata": {
    "colab": {
      "provenance": [],
      "include_colab_link": true
    },
    "kernelspec": {
      "display_name": "Python 3",
      "name": "python3"
    }
  },
  "nbformat": 4,
  "nbformat_minor": 0
}